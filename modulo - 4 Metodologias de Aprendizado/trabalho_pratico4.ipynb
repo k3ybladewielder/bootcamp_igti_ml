{
  "nbformat": 4,
  "nbformat_minor": 0,
  "metadata": {
    "colab": {
      "name": "trabalho_pratico4.ipynb",
      "provenance": [],
      "collapsed_sections": []
    },
    "kernelspec": {
      "name": "python3",
      "display_name": "Python 3"
    },
    "accelerator": "GPU"
  },
  "cells": [
    {
      "cell_type": "markdown",
      "metadata": {
        "id": "0Kr4WDLXJDAl"
      },
      "source": [
        "# Trabalho Prático 4\n",
        "\n",
        "Objetivo:\n",
        "\n",
        "classificar imagens através do uso de rede neural. Vamos\n",
        "treinar um modelo de rede neural para classificação de imagens de roupas."
      ]
    },
    {
      "cell_type": "code",
      "metadata": {
        "id": "ceIer4VgHKLo",
        "colab": {
          "base_uri": "https://localhost:8080/"
        },
        "outputId": "febce5de-aa8a-4f73-be13-838fffa3ae7c"
      },
      "source": [
        "import tensorflow as tf\n",
        "from tensorflow import keras\n",
        "\n",
        "#Bibliotecas auxiliares\n",
        "import numpy as np\n",
        "import matplotlib.pyplot as plt\n",
        "\n",
        "print(tf.__version__)"
      ],
      "execution_count": null,
      "outputs": [
        {
          "output_type": "stream",
          "text": [
            "2.3.0\n"
          ],
          "name": "stdout"
        }
      ]
    },
    {
      "cell_type": "code",
      "metadata": {
        "id": "jUsFk8zTJeLM"
      },
      "source": [
        "#importando dataset Fashion MNIST\n",
        "fashion_mnist = keras.datasets.fashion_mnist\n",
        "\n",
        "(train_images, train_labels), (test_images, test_labels) = fashion_mnist.load_data()"
      ],
      "execution_count": null,
      "outputs": []
    },
    {
      "cell_type": "code",
      "metadata": {
        "id": "5f9GLSFUJ1x0"
      },
      "source": [
        "class_names = ['tshirt/top', 'trouser', 'pullover', 'dress', 'coat', 'sandal', 'shirt', 'sneaker', 'bag', 'ankle boot']"
      ],
      "execution_count": null,
      "outputs": []
    },
    {
      "cell_type": "markdown",
      "metadata": {
        "id": "WQf6JOItKx0d"
      },
      "source": [
        "Explorando os dados"
      ]
    },
    {
      "cell_type": "code",
      "metadata": {
        "id": "53TQBre6J1-B",
        "colab": {
          "base_uri": "https://localhost:8080/"
        },
        "outputId": "ee238da3-7640-46d4-dd79-ede94da079f3"
      },
      "source": [
        "train_images.shape"
      ],
      "execution_count": null,
      "outputs": [
        {
          "output_type": "execute_result",
          "data": {
            "text/plain": [
              "(60000, 28, 28)"
            ]
          },
          "metadata": {
            "tags": []
          },
          "execution_count": 4
        }
      ]
    },
    {
      "cell_type": "code",
      "metadata": {
        "id": "i0cT0rK9J2G2"
      },
      "source": [
        "#existem 60.000 imagens no conjunto de treinamento, e cada\n",
        "#imagem é representada em 28 x 28 pixels"
      ],
      "execution_count": null,
      "outputs": []
    },
    {
      "cell_type": "code",
      "metadata": {
        "id": "AHeH4NHXJ2E6",
        "colab": {
          "base_uri": "https://localhost:8080/"
        },
        "outputId": "97cc9df1-eaf3-4ffe-e39a-703710e515d9"
      },
      "source": [
        "len(train_labels)"
      ],
      "execution_count": null,
      "outputs": [
        {
          "output_type": "execute_result",
          "data": {
            "text/plain": [
              "60000"
            ]
          },
          "metadata": {
            "tags": []
          },
          "execution_count": 6
        }
      ]
    },
    {
      "cell_type": "code",
      "metadata": {
        "id": "TwBxCfDmJ2B1"
      },
      "source": [
        "#Existem 60k labels no conjunto de treinamento"
      ],
      "execution_count": null,
      "outputs": []
    },
    {
      "cell_type": "code",
      "metadata": {
        "id": "rvNTnZSZLQIb",
        "colab": {
          "base_uri": "https://localhost:8080/"
        },
        "outputId": "762f292e-8341-48ea-e768-0ca4561e20aa"
      },
      "source": [
        "train_labels"
      ],
      "execution_count": null,
      "outputs": [
        {
          "output_type": "execute_result",
          "data": {
            "text/plain": [
              "array([9, 0, 0, ..., 3, 0, 5], dtype=uint8)"
            ]
          },
          "metadata": {
            "tags": []
          },
          "execution_count": 8
        }
      ]
    },
    {
      "cell_type": "code",
      "metadata": {
        "id": "tUJaW6_kLWPQ",
        "colab": {
          "base_uri": "https://localhost:8080/"
        },
        "outputId": "0ad83930-4e61-4b54-db01-125cb612d4c9"
      },
      "source": [
        "test_images.shape"
      ],
      "execution_count": null,
      "outputs": [
        {
          "output_type": "execute_result",
          "data": {
            "text/plain": [
              "(10000, 28, 28)"
            ]
          },
          "metadata": {
            "tags": []
          },
          "execution_count": 9
        }
      ]
    },
    {
      "cell_type": "code",
      "metadata": {
        "id": "KIQLIdwULWNE"
      },
      "source": [
        "#Existem 10000 imagens no conjunto de teste. Novamente, cada imagem é representada\n",
        "#por 28 x 28 pixels."
      ],
      "execution_count": null,
      "outputs": []
    },
    {
      "cell_type": "code",
      "metadata": {
        "id": "TYK0ghPILn-k",
        "colab": {
          "base_uri": "https://localhost:8080/"
        },
        "outputId": "98a2451b-fcd5-494b-d8b9-820e5db1efb1"
      },
      "source": [
        "len(test_labels)"
      ],
      "execution_count": null,
      "outputs": [
        {
          "output_type": "execute_result",
          "data": {
            "text/plain": [
              "10000"
            ]
          },
          "metadata": {
            "tags": []
          },
          "execution_count": 11
        }
      ]
    },
    {
      "cell_type": "code",
      "metadata": {
        "id": "81UGuLJ8Ln8U"
      },
      "source": [
        "#E um conjunto de teste contendo 10000 labels das imagens."
      ],
      "execution_count": null,
      "outputs": []
    },
    {
      "cell_type": "code",
      "metadata": {
        "id": "fMaXs8sgLn56",
        "colab": {
          "base_uri": "https://localhost:8080/",
          "height": 265
        },
        "outputId": "6ee8fa84-4061-462f-fe5b-857efe086c94"
      },
      "source": [
        "plt.figure()\n",
        "plt.imshow(train_images[0])\n",
        "plt.colorbar()\n",
        "plt.grid(False)\n",
        "plt.show()"
      ],
      "execution_count": null,
      "outputs": [
        {
          "output_type": "display_data",
          "data": {
            "image/png": "[encoded data removed]",
            "text/plain": [
              "<Figure size 432x288 with 2 Axes>"
            ]
          },
          "metadata": {
            "tags": [],
            "needs_background": "light"
          }
        }
      ]
    },
    {
      "cell_type": "code",
      "metadata": {
        "id": "TVZrBj-KLn4B"
      },
      "source": [
        "#Escalaremos esses valores no intervalo de 0 e 1 antes de alimentar o modelo da rede\n",
        "#neural. Para fazer isso, dividiremos os valores por 255. É importante que o conjunto de\n",
        "#treinamento e o conjunto de teste podem ser pré-processados do mesmo modo."
      ],
      "execution_count": null,
      "outputs": []
    },
    {
      "cell_type": "code",
      "metadata": {
        "id": "BBkOnkaFLn2M"
      },
      "source": [
        "train_images = train_images / 255.0\n",
        "test_images = test_images / 255.0"
      ],
      "execution_count": null,
      "outputs": []
    },
    {
      "cell_type": "code",
      "metadata": {
        "id": "gLlT2FUhLn0r"
      },
      "source": [
        "#Para verificar que os dados estão no formato correto e que estamos prontos para\n",
        "#construir e treinar a rede, vamos mostrar as primeiras 25 imagens do conjunto de\n",
        "#treinamento e mostrar o nome das classes de cada imagem abaixo."
      ],
      "execution_count": null,
      "outputs": []
    },
    {
      "cell_type": "code",
      "metadata": {
        "id": "Zl6ReKI1Lnyy",
        "colab": {
          "base_uri": "https://localhost:8080/",
          "height": 606
        },
        "outputId": "31dcb442-e6d6-467f-9beb-c5cb149a9b8f"
      },
      "source": [
        "plt.figure(figsize = (10, 10))\n",
        "for i in range(25):\n",
        "\tplt.subplot(5, 5, i+1)\n",
        "\tplt.xticks([])\n",
        "\tplt.yticks([])\n",
        "\tplt.grid(False)\n",
        "\tplt.imshow(train_images[i], cmap = plt.cm.binary)\n",
        "\tplt.xlabel(class_names[train_labels[i]])\n",
        "plt.show"
      ],
      "execution_count": null,
      "outputs": [
        {
          "output_type": "execute_result",
          "data": {
            "text/plain": [
              "<function matplotlib.pyplot.show>"
            ]
          },
          "metadata": {
            "tags": []
          },
          "execution_count": 17
        },
        {
          "output_type": "display_data",
          "data": {
            "image/png": "[encoded data removed]",
            "text/plain": [
              "<Figure size 720x720 with 25 Axes>"
            ]
          },
          "metadata": {
            "tags": []
          }
        }
      ]
    },
    {
      "cell_type": "markdown",
      "metadata": {
        "id": "HgMRd66hNeji"
      },
      "source": [
        "Construindo o Modelo"
      ]
    },
    {
      "cell_type": "code",
      "metadata": {
        "id": "VwxpqNhmLnw9"
      },
      "source": [
        "#Construir a rede neural requer configurar as camadas do modelo e, depois, compilar o modelo.\n",
        "#Montando as camadas\n",
        "\n",
        "model = keras.Sequential([\n",
        "\tkeras.layers.Flatten(input_shape = (28, 28)),\n",
        "\tkeras.layers.Dense(128, activation = 'relu'),\n",
        "\tkeras.layers.Dense(10, activation = 'softmax')])\n"
      ],
      "execution_count": null,
      "outputs": []
    },
    {
      "cell_type": "code",
      "metadata": {
        "id": "ab5v76MJLnuE"
      },
      "source": [
        "#compilando o modelo\n",
        "#Função Loss: essa função mede quão preciso o modelo é durante o treinamento.\n",
        "#Queremos minimizar a função para guiar o modelo para a direção certa.\n",
        "#Optimizer: isso é como o modelo se atualiza com base no dado que ele vê e sua função loss.\n",
        "#Métricas: usada para monitorar os passos de treinamento e teste. O exemplo abaixo usa a acurácia, a fração das imagens que foram classificadas corretamente.\n",
        "\n",
        "model.compile(optimizer = 'adam', loss = 'sparse_categorical_crossentropy', metrics = ['accuracy'])"
      ],
      "execution_count": null,
      "outputs": []
    },
    {
      "cell_type": "markdown",
      "metadata": {
        "id": "8W4Lvc4EQ4Wq"
      },
      "source": [
        "Treinando o modelo"
      ]
    },
    {
      "cell_type": "code",
      "metadata": {
        "id": "BAujz1ieLnrc",
        "colab": {
          "base_uri": "https://localhost:8080/"
        },
        "outputId": "324e8330-dc96-4ce3-f41e-346911610223"
      },
      "source": [
        "#Treinar a rede neural requer os seguintes passos:\n",
        "#Alimente o modelo com os dados de treinamento. Neste exemplo, os dados de treinamento são os arrays train_images e train_labels.\n",
        "#O modelo aprende como associar as imagens as labels.\n",
        "#Perguntamos ao modelo para fazer previsões sobre o conjunto de teste — nesse exemplo, o array test_images. Verificamos se as previsões combinaram com as labels do array test_labels.\n",
        "\n",
        "model.fit(train_images, train_labels, epochs = 10)"
      ],
      "execution_count": null,
      "outputs": [
        {
          "output_type": "stream",
          "text": [
            "Epoch 1/10\n",
            "1875/1875 [==============================] - 3s 2ms/step - loss: 0.4939 - accuracy: 0.8267\n",
            "Epoch 2/10\n",
            "1875/1875 [==============================] - 3s 2ms/step - loss: 0.3723 - accuracy: 0.8663\n",
            "Epoch 3/10\n",
            "1875/1875 [==============================] - 3s 2ms/step - loss: 0.3318 - accuracy: 0.8785\n",
            "Epoch 4/10\n",
            "1875/1875 [==============================] - 3s 2ms/step - loss: 0.3102 - accuracy: 0.8860\n",
            "Epoch 5/10\n",
            "1875/1875 [==============================] - 4s 2ms/step - loss: 0.2915 - accuracy: 0.8919\n",
            "Epoch 6/10\n",
            "1875/1875 [==============================] - 4s 2ms/step - loss: 0.2780 - accuracy: 0.8967\n",
            "Epoch 7/10\n",
            "1875/1875 [==============================] - 3s 2ms/step - loss: 0.2650 - accuracy: 0.9013\n",
            "Epoch 8/10\n",
            "1875/1875 [==============================] - 3s 2ms/step - loss: 0.2545 - accuracy: 0.9052\n",
            "Epoch 9/10\n",
            "1875/1875 [==============================] - 3s 2ms/step - loss: 0.2454 - accuracy: 0.9091\n",
            "Epoch 10/10\n",
            "1875/1875 [==============================] - 3s 2ms/step - loss: 0.2371 - accuracy: 0.9104\n"
          ],
          "name": "stdout"
        },
        {
          "output_type": "execute_result",
          "data": {
            "text/plain": [
              "<tensorflow.python.keras.callbacks.History at 0x7f7e105a9a90>"
            ]
          },
          "metadata": {
            "tags": []
          },
          "execution_count": 20
        }
      ]
    },
    {
      "cell_type": "markdown",
      "metadata": {
        "id": "Rr2WST8gQ3qg"
      },
      "source": [
        "Avaliando o modelo"
      ]
    },
    {
      "cell_type": "code",
      "metadata": {
        "id": "wp09_j5hQIUb",
        "colab": {
          "base_uri": "https://localhost:8080/"
        },
        "outputId": "3a96ed3d-f22e-4958-faa6-bdc11c170736"
      },
      "source": [
        "#Avaliando a acurácia\n",
        "test_loss, test_acc = model.evaluate(test_images, test_labels, verbose = 2)\n",
        "\n",
        "print('\\nTest accuray: ', test_acc, '\\nTest loss: ', test_loss)"
      ],
      "execution_count": null,
      "outputs": [
        {
          "output_type": "stream",
          "text": [
            "313/313 - 0s - loss: 0.3330 - accuracy: 0.8854\n",
            "\n",
            "Test accuray:  0.8853999972343445 \n",
            "Test loss:  0.3329569101333618\n"
          ],
          "name": "stdout"
        }
      ]
    },
    {
      "cell_type": "markdown",
      "metadata": {
        "id": "K603zn2pQ9Ov"
      },
      "source": [
        "Testando o modelo"
      ]
    },
    {
      "cell_type": "code",
      "metadata": {
        "id": "gjlkLva4QIxb",
        "colab": {
          "base_uri": "https://localhost:8080/"
        },
        "outputId": "54334f46-d609-425b-facf-5a5c3b58931e"
      },
      "source": [
        "predictions = model.predict(test_images)\n",
        "predictions[0]"
      ],
      "execution_count": null,
      "outputs": [
        {
          "output_type": "execute_result",
          "data": {
            "text/plain": [
              "array([9.3117109e-07, 6.5326305e-10, 2.6666347e-10, 1.0238248e-11,\n",
              "       4.4263704e-08, 4.2057742e-04, 1.4294714e-07, 2.1323469e-02,\n",
              "       9.1695277e-08, 9.7825480e-01], dtype=float32)"
            ]
          },
          "metadata": {
            "tags": []
          },
          "execution_count": 22
        }
      ]
    },
    {
      "cell_type": "code",
      "metadata": {
        "id": "gTqOhWaMQIu5",
        "colab": {
          "base_uri": "https://localhost:8080/"
        },
        "outputId": "79d8d34d-dcb0-4ff9-9acb-d2758624e278"
      },
      "source": [
        "np.argmax(predictions[0])"
      ],
      "execution_count": null,
      "outputs": [
        {
          "output_type": "execute_result",
          "data": {
            "text/plain": [
              "9"
            ]
          },
          "metadata": {
            "tags": []
          },
          "execution_count": 23
        }
      ]
    },
    {
      "cell_type": "code",
      "metadata": {
        "id": "rwOz8iUEQIs2"
      },
      "source": [
        ""
      ],
      "execution_count": null,
      "outputs": []
    },
    {
      "cell_type": "code",
      "metadata": {
        "id": "UGVUzNznftTY"
      },
      "source": [
        "def plot_image(i, predictions_array, true_label, img):\n",
        "  predictions_array, true_label, img = predictions_array[i], true_label[i], img[i]\n",
        "  plt.grid(False)\n",
        "  plt.xticks([])\n",
        "  plt.yticks([])\n",
        "\n",
        "  plt.imshow(img, cmap = plt.cm.binary)\n",
        "\n",
        "  predicted_label = np.argmax(predictions_array)\n",
        "  if predicted_label == true_label:\n",
        "    color = 'blue'\n",
        "  else:\n",
        "    color = 'red'\n",
        "\n",
        "  plt.xlabel('{} {:2.0f}% ({})'.format(class_names[predicted_label], 100*np.max(predictions_array), class_names[true_label]), color = color)\n",
        "\n",
        "def plot_values_array(i, predictions_array, true_label):\n",
        "  predictions_array, true_label = predictions_array[i], true_label[i]\n",
        "  plt.grid(False)\n",
        "  plt.xticks([])\n",
        "  plt.yticks([])\n",
        "  thisplot = plt.bar(range(10), predictions_array, color = '#008000')\n",
        "  plt.ylim([0, 1])\n",
        "  predicted_label = np.argmax(predictions_array)\n",
        "\n",
        "  thisplot[predicted_label].set_color('red')\n",
        "  thisplot[true_label].set_color('blue')\n"
      ],
      "execution_count": null,
      "outputs": []
    },
    {
      "cell_type": "code",
      "metadata": {
        "id": "rGuMKO6hQISe",
        "colab": {
          "base_uri": "https://localhost:8080/",
          "height": 203
        },
        "outputId": "08e6ab88-cbc5-4a41-a629-c3e5da5e7bc6"
      },
      "source": [
        "#Vamos olhar a previsão imagem na posição 0, do array de predição\n",
        "i = 0\n",
        "plt.figure(figsize = (6,3))\n",
        "plt.subplot(1, 2, 1)\n",
        "plot_image(i, predictions, test_labels, test_images)\n",
        "plt.subplot(1, 2, 2)\n",
        "plot_values_array(i, predictions, test_labels)\n",
        "plt.show()"
      ],
      "execution_count": null,
      "outputs": [
        {
          "output_type": "display_data",
          "data": {
            "image/png": "[encoded data removed]",
            "text/plain": [
              "<Figure size 432x216 with 2 Axes>"
            ]
          },
          "metadata": {
            "tags": []
          }
        }
      ]
    },
    {
      "cell_type": "code",
      "metadata": {
        "id": "KNHzSsylQIQw",
        "colab": {
          "base_uri": "https://localhost:8080/",
          "height": 203
        },
        "outputId": "38f29e8e-d8e3-479d-d0f8-55b5777df601"
      },
      "source": [
        "i = 12\n",
        "plt.figure(figsize = (6,3))\n",
        "plt.subplot(1, 2, 1)\n",
        "plot_image(i, predictions, test_labels, test_images)\n",
        "plt.subplot(1, 2, 2)\n",
        "plot_values_array(i, predictions, test_labels)\n",
        "plt.show()"
      ],
      "execution_count": null,
      "outputs": [
        {
          "output_type": "display_data",
          "data": {
            "image/png": "[encoded data removed]",
            "text/plain": [
              "<Figure size 432x216 with 2 Axes>"
            ]
          },
          "metadata": {
            "tags": []
          }
        }
      ]
    },
    {
      "cell_type": "code",
      "metadata": {
        "id": "8b6pTvxrQIOG",
        "colab": {
          "base_uri": "https://localhost:8080/",
          "height": 527
        },
        "outputId": "8aad511a-522a-4100-ae31-1950b09722c0"
      },
      "source": [
        "#plotando o primeiro x test images, labels preditas e as labels verdadeiras\n",
        "#Plotando as corretas de azul e as incorretas de vermelho\n",
        "num_rows = 5\n",
        "num_cols = 3\n",
        "num_images = num_rows * num_cols\n",
        "plt.figure(figsize = (2 * 2 * num_cols, 2 * num_rows))\n",
        "for i in range(num_images):\n",
        "  plt.subplot(num_rows, 2 * num_cols, 2 * i+1)\n",
        "  plot_image(i, predictions, test_labels, test_images)\n",
        "  plt.subplot(num_rows, 2 * num_cols, 2*i+2)\n",
        "  plot_values_array(i, predictions, test_labels)\n",
        "plt.show()"
      ],
      "execution_count": null,
      "outputs": [
        {
          "output_type": "display_data",
          "data": {
            "image/png": "[encoded data removed]",
            "text/plain": [
              "<Figure size 864x720 with 30 Axes>"
            ]
          },
          "metadata": {
            "tags": []
          }
        }
      ]
    },
    {
      "cell_type": "markdown",
      "metadata": {
        "id": "slF0jR6cAAsg"
      },
      "source": [
        "Predição"
      ]
    },
    {
      "cell_type": "code",
      "metadata": {
        "id": "GstHIzWQQILD",
        "colab": {
          "base_uri": "https://localhost:8080/"
        },
        "outputId": "d6d9d732-92fb-4b37-bc48-6b906a8c7f79"
      },
      "source": [
        "#pegando imagem do dataset\n",
        "img = test_images[0]\n",
        "print(img.shape) "
      ],
      "execution_count": null,
      "outputs": [
        {
          "output_type": "stream",
          "text": [
            "(28, 28)\n"
          ],
          "name": "stdout"
        }
      ]
    },
    {
      "cell_type": "code",
      "metadata": {
        "id": "Uu1Ys3DRAJxv",
        "colab": {
          "base_uri": "https://localhost:8080/"
        },
        "outputId": "10911916-feae-4e62-ff03-9f16ddb9f177"
      },
      "source": [
        "img = (np.expand_dims(img, 0))\n",
        "print(img.shape)"
      ],
      "execution_count": null,
      "outputs": [
        {
          "output_type": "stream",
          "text": [
            "(1, 28, 28)\n"
          ],
          "name": "stdout"
        }
      ]
    },
    {
      "cell_type": "code",
      "metadata": {
        "id": "PKx-pkckAJvP",
        "colab": {
          "base_uri": "https://localhost:8080/"
        },
        "outputId": "ba045b05-4495-47d3-e243-4724f803b253"
      },
      "source": [
        "predictions_single = model.predict(img)\n",
        "print(predictions_single)"
      ],
      "execution_count": null,
      "outputs": [
        {
          "output_type": "stream",
          "text": [
            "[[9.3117291e-07 6.5326428e-10 2.6666400e-10 1.0238248e-11 4.4263704e-08\n",
            "  4.2057698e-04 1.4294714e-07 2.1323469e-02 9.1695277e-08 9.7825480e-01]]\n"
          ],
          "name": "stdout"
        }
      ]
    },
    {
      "cell_type": "code",
      "metadata": {
        "id": "CF5T8_mmAJtH",
        "colab": {
          "base_uri": "https://localhost:8080/",
          "height": 640
        },
        "outputId": "60df6fea-ffc0-4c2a-bb3f-fcd8673c0c11"
      },
      "source": [
        "plot_values_array(0, predictions_single, test_labels)\n",
        "plt.xticks(range(10), class_names, rotation = 45)"
      ],
      "execution_count": null,
      "outputs": [
        {
          "output_type": "execute_result",
          "data": {
            "text/plain": [
              "([<matplotlib.axis.XTick at 0x7f7df5841470>,\n",
              "  <matplotlib.axis.XTick at 0x7f7df5841438>,\n",
              "  <matplotlib.axis.XTick at 0x7f7df57d95f8>,\n",
              "  <matplotlib.axis.XTick at 0x7f7df57e9ac8>,\n",
              "  <matplotlib.axis.XTick at 0x7f7df57e9f60>,\n",
              "  <matplotlib.axis.XTick at 0x7f7df57ef438>,\n",
              "  <matplotlib.axis.XTick at 0x7f7df57ef8d0>,\n",
              "  <matplotlib.axis.XTick at 0x7f7df57efd68>,\n",
              "  <matplotlib.axis.XTick at 0x7f7df57efe48>,\n",
              "  <matplotlib.axis.XTick at 0x7f7df57e9ba8>],\n",
              " [Text(0, 0, 'tshirt/top'),\n",
              "  Text(0, 0, 'trouser'),\n",
              "  Text(0, 0, 'pullover'),\n",
              "  Text(0, 0, 'dress'),\n",
              "  Text(0, 0, 'coat'),\n",
              "  Text(0, 0, 'sandal'),\n",
              "  Text(0, 0, 'shirt'),\n",
              "  Text(0, 0, 'sneaker'),\n",
              "  Text(0, 0, 'bag'),\n",
              "  Text(0, 0, 'ankle boot')])"
            ]
          },
          "metadata": {
            "tags": []
          },
          "execution_count": 44
        },
        {
          "output_type": "display_data",
          "data": {
            "image/png": "[encoded data removed]",
            "text/plain": [
              "<Figure size 432x288 with 1 Axes>"
            ]
          },
          "metadata": {
            "tags": [],
            "needs_background": "light"
          }
        }
      ]
    },
    {
      "cell_type": "code",
      "metadata": {
        "id": "qzJN6vxnAJp5",
        "colab": {
          "base_uri": "https://localhost:8080/"
        },
        "outputId": "921cff89-1251-42c1-e57e-0e22c7bd0798"
      },
      "source": [
        "np.argmax(predictions_single[0])"
      ],
      "execution_count": null,
      "outputs": [
        {
          "output_type": "execute_result",
          "data": {
            "text/plain": [
              "9"
            ]
          },
          "metadata": {
            "tags": []
          },
          "execution_count": 45
        }
      ]
    },
    {
      "cell_type": "markdown",
      "metadata": {
        "id": "CrK4OVmrAzve"
      },
      "source": [
        "Fim\n",
        "\n",
        "Visite meu [github](https://github.com/k3ybladewielder) :3"
      ]
    }
  ]
}