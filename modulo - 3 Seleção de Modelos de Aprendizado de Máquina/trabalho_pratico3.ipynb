{
  "nbformat": 4,
  "nbformat_minor": 0,
  "metadata": {
    "colab": {
      "name": "Trabalho_pratico3.ipynb",
      "provenance": [],
      "collapsed_sections": []
    },
    "kernelspec": {
      "name": "python3",
      "display_name": "Python 3"
    }
  },
  "cells": [
    {
      "cell_type": "code",
      "metadata": {
        "id": "A7ylz3R5nLON"
      },
      "source": [
        "#Neste trabalho, vamos exercitar conceitos sobre medidas de desempenho vistas em aula, a partir da modelagem de 3 problemas diferentes.\n",
        "#Para o problema de regressão, usaremos a base diabetes_numeric.csv e uma regressão linear.\n",
        "#Para o problema de classificação, usaremos a base bloodtransf.csv e um SVM.\n",
        "#Para o problema de clusterização vamos utilizar a base wine.csv e o algoritmo kmeans."
      ],
      "execution_count": null,
      "outputs": []
    },
    {
      "cell_type": "code",
      "metadata": {
        "id": "bCyKRiLEmyT0"
      },
      "source": [
        "import pandas as pd\n",
        "import numpy as np"
      ],
      "execution_count": null,
      "outputs": []
    },
    {
      "cell_type": "code",
      "metadata": {
        "id": "7ehbyMcWnLb2"
      },
      "source": [
        "diabetes = pd.read_csv('/content/drive/My Drive/Data Science/Bootcamp Analista de ML/Módulo 3 - SMA/diabetes_numeric.csv')\n",
        "bloodtransf = pd.read_csv('/content/drive/My Drive/Data Science/Bootcamp Analista de ML/Módulo 3 - SMA/bloodtransf.csv')\n",
        "wine = pd.read_csv('/content/drive/My Drive/Data Science/Bootcamp Analista de ML/Módulo 3 - SMA/wine.csv')"
      ],
      "execution_count": null,
      "outputs": []
    },
    {
      "cell_type": "code",
      "metadata": {
        "id": "vTgx5e-4nLSD",
        "colab": {
          "base_uri": "https://localhost:8080/",
          "height": 34
        },
        "outputId": "3a9741ee-e6c5-4d9e-9ea2-b464c4ddef2e"
      },
      "source": [
        "#Sobre o número de atributos da base de regressão, marque a alternativa CORRETA:\n",
        "diabetes.shape"
      ],
      "execution_count": null,
      "outputs": [
        {
          "output_type": "execute_result",
          "data": {
            "text/plain": [
              "(43, 3)"
            ]
          },
          "metadata": {
            "tags": []
          },
          "execution_count": 4
        }
      ]
    },
    {
      "cell_type": "code",
      "metadata": {
        "id": "V9QIAfHEwAo3",
        "colab": {
          "base_uri": "https://localhost:8080/",
          "height": 187
        },
        "outputId": "5ef537f4-7214-40cf-8f3f-abd355bfee4e"
      },
      "source": [
        "diabetes.info()"
      ],
      "execution_count": null,
      "outputs": [
        {
          "output_type": "stream",
          "text": [
            "<class 'pandas.core.frame.DataFrame'>\n",
            "RangeIndex: 43 entries, 0 to 42\n",
            "Data columns (total 3 columns):\n",
            " #   Column     Non-Null Count  Dtype  \n",
            "---  ------     --------------  -----  \n",
            " 0   age        43 non-null     float64\n",
            " 1   deficit    43 non-null     float64\n",
            " 2   c_peptide  43 non-null     float64\n",
            "dtypes: float64(3)\n",
            "memory usage: 1.1 KB\n"
          ],
          "name": "stdout"
        }
      ]
    },
    {
      "cell_type": "code",
      "metadata": {
        "id": "gH77aoFRnLLo",
        "colab": {
          "base_uri": "https://localhost:8080/",
          "height": 34
        },
        "outputId": "bf0d226c-8669-49e3-b5f3-9dc0ec78c13d"
      },
      "source": [
        "#Sobre o número de instâncias da base de classificação, marque a alternativa CORRETA:\n",
        "bloodtransf.shape"
      ],
      "execution_count": null,
      "outputs": [
        {
          "output_type": "execute_result",
          "data": {
            "text/plain": [
              "(748, 5)"
            ]
          },
          "metadata": {
            "tags": []
          },
          "execution_count": 6
        }
      ]
    },
    {
      "cell_type": "code",
      "metadata": {
        "id": "Afe4V_CvnLJb",
        "colab": {
          "base_uri": "https://localhost:8080/",
          "height": 34
        },
        "outputId": "2404dbc8-d462-4399-b258-3d212ca5b640"
      },
      "source": [
        "#Sobre a base de clusterização, marque a alternativa CORRETA:\n",
        "wine.shape"
      ],
      "execution_count": null,
      "outputs": [
        {
          "output_type": "execute_result",
          "data": {
            "text/plain": [
              "(178, 14)"
            ]
          },
          "metadata": {
            "tags": []
          },
          "execution_count": 7
        }
      ]
    },
    {
      "cell_type": "code",
      "metadata": {
        "id": "ZhLFcIlhwj7A",
        "colab": {
          "base_uri": "https://localhost:8080/",
          "height": 374
        },
        "outputId": "345d8597-bbb1-4bba-a170-3eef6e546a8b"
      },
      "source": [
        "wine.info()"
      ],
      "execution_count": null,
      "outputs": [
        {
          "output_type": "stream",
          "text": [
            "<class 'pandas.core.frame.DataFrame'>\n",
            "RangeIndex: 178 entries, 0 to 177\n",
            "Data columns (total 14 columns):\n",
            " #   Column                          Non-Null Count  Dtype  \n",
            "---  ------                          --------------  -----  \n",
            " 0   class                           178 non-null    int64  \n",
            " 1   Alcohol                         178 non-null    float64\n",
            " 2   Malic_acid                      178 non-null    float64\n",
            " 3   Ash                             178 non-null    float64\n",
            " 4   Alcalinity_of_ash               178 non-null    float64\n",
            " 5   Magnesium                       178 non-null    int64  \n",
            " 6   Total_phenols                   178 non-null    float64\n",
            " 7   Flavanoids                      178 non-null    float64\n",
            " 8   Nonflavanoid_phenols            178 non-null    float64\n",
            " 9   Proanthocyanins                 178 non-null    float64\n",
            " 10  Color_intensity                 178 non-null    float64\n",
            " 11  Hue                             178 non-null    float64\n",
            " 12  OD280%2FOD315_of_diluted_wines  178 non-null    float64\n",
            " 13  Proline                         178 non-null    int64  \n",
            "dtypes: float64(11), int64(3)\n",
            "memory usage: 19.6 KB\n"
          ],
          "name": "stdout"
        }
      ]
    },
    {
      "cell_type": "code",
      "metadata": {
        "id": "ewFRgR-rnLHI",
        "colab": {
          "base_uri": "https://localhost:8080/",
          "height": 544
        },
        "outputId": "9d149f7d-1018-481b-ff3a-4455d0b27e92"
      },
      "source": [
        "#Sobre dados faltantes, marque a alternativa CORRETA:\n",
        "print('Dados faltantes diabetes é : \\n', diabetes.isnull().sum(), '\\n')\n",
        "print('Dados faltantes bloodtransf é : \\n', bloodtransf.isnull().sum(), '\\n')\n",
        "print('Dados faltantes wine é : \\n', wine.isnull().sum(), '\\n')\n"
      ],
      "execution_count": null,
      "outputs": [
        {
          "output_type": "stream",
          "text": [
            "Dados faltantes diabetes é : \n",
            " age          0\n",
            "deficit      0\n",
            "c_peptide    0\n",
            "dtype: int64 \n",
            "\n",
            "Dados faltantes bloodtransf é : \n",
            " V1       0\n",
            "V2       0\n",
            "V3       0\n",
            "V4       0\n",
            "Class    0\n",
            "dtype: int64 \n",
            "\n",
            "Dados faltantes wine é : \n",
            " class                             0\n",
            "Alcohol                           0\n",
            "Malic_acid                        0\n",
            "Ash                               0\n",
            "Alcalinity_of_ash                 0\n",
            "Magnesium                         0\n",
            "Total_phenols                     0\n",
            "Flavanoids                        0\n",
            "Nonflavanoid_phenols              0\n",
            "Proanthocyanins                   0\n",
            "Color_intensity                   0\n",
            "Hue                               0\n",
            "OD280%2FOD315_of_diluted_wines    0\n",
            "Proline                           0\n",
            "dtype: int64 \n",
            "\n"
          ],
          "name": "stdout"
        }
      ]
    },
    {
      "cell_type": "code",
      "metadata": {
        "id": "wb126fVKqg1N",
        "colab": {
          "base_uri": "https://localhost:8080/",
          "height": 204
        },
        "outputId": "9ee37157-f212-4b48-bd13-afbe8c156b91"
      },
      "source": [
        "#Regressão linear com diabetes_numeric\n",
        "diabetes.head()"
      ],
      "execution_count": null,
      "outputs": [
        {
          "output_type": "execute_result",
          "data": {
            "text/html": [
              "<div>\n",
              "<style scoped>\n",
              "    .dataframe tbody tr th:only-of-type {\n",
              "        vertical-align: middle;\n",
              "    }\n",
              "\n",
              "    .dataframe tbody tr th {\n",
              "        vertical-align: top;\n",
              "    }\n",
              "\n",
              "    .dataframe thead th {\n",
              "        text-align: right;\n",
              "    }\n",
              "</style>\n",
              "<table border=\"1\" class=\"dataframe\">\n",
              "  <thead>\n",
              "    <tr style=\"text-align: right;\">\n",
              "      <th></th>\n",
              "      <th>age</th>\n",
              "      <th>deficit</th>\n",
              "      <th>c_peptide</th>\n",
              "    </tr>\n",
              "  </thead>\n",
              "  <tbody>\n",
              "    <tr>\n",
              "      <th>0</th>\n",
              "      <td>5.2</td>\n",
              "      <td>-8.1</td>\n",
              "      <td>4.8</td>\n",
              "    </tr>\n",
              "    <tr>\n",
              "      <th>1</th>\n",
              "      <td>8.8</td>\n",
              "      <td>-16.1</td>\n",
              "      <td>4.1</td>\n",
              "    </tr>\n",
              "    <tr>\n",
              "      <th>2</th>\n",
              "      <td>10.5</td>\n",
              "      <td>-0.9</td>\n",
              "      <td>5.2</td>\n",
              "    </tr>\n",
              "    <tr>\n",
              "      <th>3</th>\n",
              "      <td>10.6</td>\n",
              "      <td>-7.8</td>\n",
              "      <td>5.5</td>\n",
              "    </tr>\n",
              "    <tr>\n",
              "      <th>4</th>\n",
              "      <td>10.4</td>\n",
              "      <td>-29.0</td>\n",
              "      <td>5.0</td>\n",
              "    </tr>\n",
              "  </tbody>\n",
              "</table>\n",
              "</div>"
            ],
            "text/plain": [
              "    age  deficit  c_peptide\n",
              "0   5.2     -8.1        4.8\n",
              "1   8.8    -16.1        4.1\n",
              "2  10.5     -0.9        5.2\n",
              "3  10.6     -7.8        5.5\n",
              "4  10.4    -29.0        5.0"
            ]
          },
          "metadata": {
            "tags": []
          },
          "execution_count": 10
        }
      ]
    },
    {
      "cell_type": "code",
      "metadata": {
        "id": "y63d799enLFZ",
        "colab": {
          "base_uri": "https://localhost:8080/",
          "height": 204
        },
        "outputId": "4643e8eb-6c44-4756-b2da-e3359e99e2e1"
      },
      "source": [
        "#Em relação a modelagem utilizando a regressão linear, marque a alternativa CORRETA sobre a métrica r2\n",
        "\n",
        "from sklearn.model_selection import train_test_split\n",
        "\n",
        "x_diabetes = diabetes.drop('c_peptide', axis=1)\n",
        "x_diabetes = np.array(x_diabetes)\n",
        "y_diabetes = np.array(diabetes['c_peptide'])\n",
        "\n",
        "#splitando treino e teste\n",
        "from sklearn.linear_model import LinearRegression\n",
        "\n",
        "x_treino_diabetes, x_teste_diabetes, y_treino_diabetes, y_teste_diabetes = train_test_split(x_diabetes, y_diabetes, test_size = 0.25, random_state = 42)\n",
        "\n",
        "#Aplicando a regressão\n",
        "regressor = LinearRegression()\n",
        "\n",
        "regressor.fit(x_treino_diabetes, y_treino_diabetes)\n",
        "\n",
        "#teste\n",
        "\n",
        "reg_pred = regressor.predict(x_teste_diabetes)\n",
        "\n",
        "#Exibindo\n",
        "p = pd.DataFrame({'Real': y_teste_diabetes, 'Previsto': reg_pred})  \n",
        "p.head()\n"
      ],
      "execution_count": null,
      "outputs": [
        {
          "output_type": "execute_result",
          "data": {
            "text/html": [
              "<div>\n",
              "<style scoped>\n",
              "    .dataframe tbody tr th:only-of-type {\n",
              "        vertical-align: middle;\n",
              "    }\n",
              "\n",
              "    .dataframe tbody tr th {\n",
              "        vertical-align: top;\n",
              "    }\n",
              "\n",
              "    .dataframe thead th {\n",
              "        text-align: right;\n",
              "    }\n",
              "</style>\n",
              "<table border=\"1\" class=\"dataframe\">\n",
              "  <thead>\n",
              "    <tr style=\"text-align: right;\">\n",
              "      <th></th>\n",
              "      <th>Real</th>\n",
              "      <th>Previsto</th>\n",
              "    </tr>\n",
              "  </thead>\n",
              "  <tbody>\n",
              "    <tr>\n",
              "      <th>0</th>\n",
              "      <td>6.0</td>\n",
              "      <td>5.256343</td>\n",
              "    </tr>\n",
              "    <tr>\n",
              "      <th>1</th>\n",
              "      <td>5.7</td>\n",
              "      <td>5.355738</td>\n",
              "    </tr>\n",
              "    <tr>\n",
              "      <th>2</th>\n",
              "      <td>5.1</td>\n",
              "      <td>5.118052</td>\n",
              "    </tr>\n",
              "    <tr>\n",
              "      <th>3</th>\n",
              "      <td>5.1</td>\n",
              "      <td>4.716996</td>\n",
              "    </tr>\n",
              "    <tr>\n",
              "      <th>4</th>\n",
              "      <td>3.9</td>\n",
              "      <td>4.348632</td>\n",
              "    </tr>\n",
              "  </tbody>\n",
              "</table>\n",
              "</div>"
            ],
            "text/plain": [
              "   Real  Previsto\n",
              "0   6.0  5.256343\n",
              "1   5.7  5.355738\n",
              "2   5.1  5.118052\n",
              "3   5.1  4.716996\n",
              "4   3.9  4.348632"
            ]
          },
          "metadata": {
            "tags": []
          },
          "execution_count": 12
        }
      ]
    },
    {
      "cell_type": "code",
      "metadata": {
        "id": "XYMqp6gG3Q0W",
        "colab": {
          "base_uri": "https://localhost:8080/",
          "height": 68
        },
        "outputId": "5450d7e7-f058-4143-ec22-98c7e4ceeb7b"
      },
      "source": [
        "#Em relação a modelagem utilizando a regressão linear, marque a alternativa CORRETA sobre a métrica r2:\n",
        "\n",
        "from sklearn import metrics\n",
        "\n",
        "#avaliando o modelo\n",
        "print('R2:', metrics.r2_score(y_teste_diabetes, reg_pred)) \n",
        "print('MAE:', metrics.mean_absolute_error(y_teste_diabetes, reg_pred))\n",
        "print('MSE:', metrics.mean_squared_error(y_teste_diabetes, reg_pred)) "
      ],
      "execution_count": null,
      "outputs": [
        {
          "output_type": "stream",
          "text": [
            "R2: 0.21880597788432898\n",
            "MAE: 0.6107422323514548\n",
            "MSE: 0.474526947318197\n"
          ],
          "name": "stdout"
        }
      ]
    },
    {
      "cell_type": "code",
      "metadata": {
        "id": "JJPBiwxxL8fs"
      },
      "source": [
        ""
      ],
      "execution_count": null,
      "outputs": []
    },
    {
      "cell_type": "code",
      "metadata": {
        "id": "Pm11wnL0nK9p"
      },
      "source": [
        "#Em relação a modelagem utilizando o SVM, marque a alternativa CORRETA sobre a métrica acurácia:\n",
        "#Split do dataset bloodtransf\n",
        "x_blood = bloodtransf.drop('Class', axis=1)\n",
        "x_blood = np.array(x_blood)\n",
        "y_blood = np.array(bloodtransf['Class'])\n",
        "\n",
        "\n",
        "#splitando treino e teste\n",
        "from sklearn.linear_model import LinearRegression #repeti a importação para faciliar a leitura\n",
        "\n",
        "x_treino_blood, x_teste_blood, y_treino_blood, y_teste_blood = train_test_split(x_blood, y_blood, test_size = 0.25, random_state = 42)\n",
        "\n",
        "from sklearn.svm import SVC\n",
        "reg_svc = SVC(kernel='rbf')\n",
        "reg_svc.fit(x_treino_blood, y_treino_blood)\n",
        "svm_predict = reg_svc.predict(x_teste_blood)\n",
        "\n",
        "from sklearn.metrics import accuracy_score, precision_score, recall_score, f1_score, roc_auc_score\n"
      ],
      "execution_count": null,
      "outputs": []
    },
    {
      "cell_type": "code",
      "metadata": {
        "id": "7v8_Ni5JKOxQ",
        "colab": {
          "base_uri": "https://localhost:8080/",
          "height": 34
        },
        "outputId": "4e55ffe3-a113-40b2-94d7-7ec1e3ba7768"
      },
      "source": [
        "accuracy_score(y_teste_blood, svm_predict)"
      ],
      "execution_count": null,
      "outputs": [
        {
          "output_type": "execute_result",
          "data": {
            "text/plain": [
              "0.7486631016042781"
            ]
          },
          "metadata": {
            "tags": []
          },
          "execution_count": 15
        }
      ]
    },
    {
      "cell_type": "code",
      "metadata": {
        "id": "AWR2k0IGAuSu",
        "colab": {
          "base_uri": "https://localhost:8080/",
          "height": 34
        },
        "outputId": "9009c1a0-7bc2-4d60-af33-ee305659cd2f"
      },
      "source": [
        "#Em relação a modelagem utilizando o SVM, marque a alternativa CORRETA sobre as métricas precision e recall:\n",
        "\n",
        "precision_score(y_teste_blood, svm_predict)"
      ],
      "execution_count": null,
      "outputs": [
        {
          "output_type": "execute_result",
          "data": {
            "text/plain": [
              "0.7473118279569892"
            ]
          },
          "metadata": {
            "tags": []
          },
          "execution_count": 17
        }
      ]
    },
    {
      "cell_type": "code",
      "metadata": {
        "id": "kRTFBkyZAuQz",
        "colab": {
          "base_uri": "https://localhost:8080/",
          "height": 34
        },
        "outputId": "54201e07-8782-473a-d196-a4cdb628a08b"
      },
      "source": [
        "recall_score(y_teste_blood, svm_predict)"
      ],
      "execution_count": null,
      "outputs": [
        {
          "output_type": "execute_result",
          "data": {
            "text/plain": [
              "1.0"
            ]
          },
          "metadata": {
            "tags": []
          },
          "execution_count": 18
        }
      ]
    },
    {
      "cell_type": "code",
      "metadata": {
        "id": "Fo1sMGyMAuOQ",
        "colab": {
          "base_uri": "https://localhost:8080/",
          "height": 34
        },
        "outputId": "a945dac5-7462-4ee9-d065-b7e27c385443"
      },
      "source": [
        "#Em relação a modelagem utilizando o SVM, marque a alternativa CORRETA sobre a métrica f1:\n",
        "f1_score(y_teste_blood, svm_predict)\n"
      ],
      "execution_count": null,
      "outputs": [
        {
          "output_type": "execute_result",
          "data": {
            "text/plain": [
              "0.8553846153846154"
            ]
          },
          "metadata": {
            "tags": []
          },
          "execution_count": 20
        }
      ]
    },
    {
      "cell_type": "code",
      "metadata": {
        "id": "50B83CJqAuKH",
        "colab": {
          "base_uri": "https://localhost:8080/",
          "height": 34
        },
        "outputId": "24d109a8-d1e4-49dc-8cf0-51798ce9ee9e"
      },
      "source": [
        "#Em relação a modelagem utilizando o SVM, marque a alternativa CORRETA sobre a métrica AUROC:\n",
        "roc_auc_score(y_teste_blood, svm_predict)"
      ],
      "execution_count": null,
      "outputs": [
        {
          "output_type": "execute_result",
          "data": {
            "text/plain": [
              "0.5104166666666666"
            ]
          },
          "metadata": {
            "tags": []
          },
          "execution_count": 21
        }
      ]
    },
    {
      "cell_type": "code",
      "metadata": {
        "id": "G6BLMKs2N30X"
      },
      "source": [
        ""
      ],
      "execution_count": null,
      "outputs": []
    },
    {
      "cell_type": "code",
      "metadata": {
        "id": "sJVY7SDIN4E6",
        "colab": {
          "base_uri": "https://localhost:8080/",
          "height": 224
        },
        "outputId": "707fcf01-2c18-48dc-e574-e8cdcda837bc"
      },
      "source": [
        "wine.head()"
      ],
      "execution_count": null,
      "outputs": [
        {
          "output_type": "execute_result",
          "data": {
            "text/html": [
              "<div>\n",
              "<style scoped>\n",
              "    .dataframe tbody tr th:only-of-type {\n",
              "        vertical-align: middle;\n",
              "    }\n",
              "\n",
              "    .dataframe tbody tr th {\n",
              "        vertical-align: top;\n",
              "    }\n",
              "\n",
              "    .dataframe thead th {\n",
              "        text-align: right;\n",
              "    }\n",
              "</style>\n",
              "<table border=\"1\" class=\"dataframe\">\n",
              "  <thead>\n",
              "    <tr style=\"text-align: right;\">\n",
              "      <th></th>\n",
              "      <th>class</th>\n",
              "      <th>Alcohol</th>\n",
              "      <th>Malic_acid</th>\n",
              "      <th>Ash</th>\n",
              "      <th>Alcalinity_of_ash</th>\n",
              "      <th>Magnesium</th>\n",
              "      <th>Total_phenols</th>\n",
              "      <th>Flavanoids</th>\n",
              "      <th>Nonflavanoid_phenols</th>\n",
              "      <th>Proanthocyanins</th>\n",
              "      <th>Color_intensity</th>\n",
              "      <th>Hue</th>\n",
              "      <th>OD280%2FOD315_of_diluted_wines</th>\n",
              "      <th>Proline</th>\n",
              "    </tr>\n",
              "  </thead>\n",
              "  <tbody>\n",
              "    <tr>\n",
              "      <th>0</th>\n",
              "      <td>1</td>\n",
              "      <td>14.23</td>\n",
              "      <td>1.71</td>\n",
              "      <td>2.43</td>\n",
              "      <td>15.6</td>\n",
              "      <td>127</td>\n",
              "      <td>2.80</td>\n",
              "      <td>3.06</td>\n",
              "      <td>0.28</td>\n",
              "      <td>2.29</td>\n",
              "      <td>5.64</td>\n",
              "      <td>1.04</td>\n",
              "      <td>3.92</td>\n",
              "      <td>1065</td>\n",
              "    </tr>\n",
              "    <tr>\n",
              "      <th>1</th>\n",
              "      <td>1</td>\n",
              "      <td>13.20</td>\n",
              "      <td>1.78</td>\n",
              "      <td>2.14</td>\n",
              "      <td>11.2</td>\n",
              "      <td>100</td>\n",
              "      <td>2.65</td>\n",
              "      <td>2.76</td>\n",
              "      <td>0.26</td>\n",
              "      <td>1.28</td>\n",
              "      <td>4.38</td>\n",
              "      <td>1.05</td>\n",
              "      <td>3.40</td>\n",
              "      <td>1050</td>\n",
              "    </tr>\n",
              "    <tr>\n",
              "      <th>2</th>\n",
              "      <td>1</td>\n",
              "      <td>13.16</td>\n",
              "      <td>2.36</td>\n",
              "      <td>2.67</td>\n",
              "      <td>18.6</td>\n",
              "      <td>101</td>\n",
              "      <td>2.80</td>\n",
              "      <td>3.24</td>\n",
              "      <td>0.30</td>\n",
              "      <td>2.81</td>\n",
              "      <td>5.68</td>\n",
              "      <td>1.03</td>\n",
              "      <td>3.17</td>\n",
              "      <td>1185</td>\n",
              "    </tr>\n",
              "    <tr>\n",
              "      <th>3</th>\n",
              "      <td>1</td>\n",
              "      <td>14.37</td>\n",
              "      <td>1.95</td>\n",
              "      <td>2.50</td>\n",
              "      <td>16.8</td>\n",
              "      <td>113</td>\n",
              "      <td>3.85</td>\n",
              "      <td>3.49</td>\n",
              "      <td>0.24</td>\n",
              "      <td>2.18</td>\n",
              "      <td>7.80</td>\n",
              "      <td>0.86</td>\n",
              "      <td>3.45</td>\n",
              "      <td>1480</td>\n",
              "    </tr>\n",
              "    <tr>\n",
              "      <th>4</th>\n",
              "      <td>1</td>\n",
              "      <td>13.24</td>\n",
              "      <td>2.59</td>\n",
              "      <td>2.87</td>\n",
              "      <td>21.0</td>\n",
              "      <td>118</td>\n",
              "      <td>2.80</td>\n",
              "      <td>2.69</td>\n",
              "      <td>0.39</td>\n",
              "      <td>1.82</td>\n",
              "      <td>4.32</td>\n",
              "      <td>1.04</td>\n",
              "      <td>2.93</td>\n",
              "      <td>735</td>\n",
              "    </tr>\n",
              "  </tbody>\n",
              "</table>\n",
              "</div>"
            ],
            "text/plain": [
              "   class  Alcohol  Malic_acid  ...   Hue  OD280%2FOD315_of_diluted_wines  Proline\n",
              "0      1    14.23        1.71  ...  1.04                            3.92     1065\n",
              "1      1    13.20        1.78  ...  1.05                            3.40     1050\n",
              "2      1    13.16        2.36  ...  1.03                            3.17     1185\n",
              "3      1    14.37        1.95  ...  0.86                            3.45     1480\n",
              "4      1    13.24        2.59  ...  1.04                            2.93      735\n",
              "\n",
              "[5 rows x 14 columns]"
            ]
          },
          "metadata": {
            "tags": []
          },
          "execution_count": 22
        }
      ]
    },
    {
      "cell_type": "code",
      "metadata": {
        "id": "6tDhZDjGOM2A",
        "colab": {
          "base_uri": "https://localhost:8080/",
          "height": 34
        },
        "outputId": "31f38ca6-d6a4-4ade-b9ff-693e4e7f02fd"
      },
      "source": [
        "#Em relação a modelagem utilizando o Kmeans, marque a alternativa CORRETA sobre o número de clusters:\n",
        "wine['class'].nunique()"
      ],
      "execution_count": null,
      "outputs": [
        {
          "output_type": "execute_result",
          "data": {
            "text/plain": [
              "3"
            ]
          },
          "metadata": {
            "tags": []
          },
          "execution_count": 25
        }
      ]
    },
    {
      "cell_type": "code",
      "metadata": {
        "id": "X_P5UwZQPf9z",
        "colab": {
          "base_uri": "https://localhost:8080/",
          "height": 68
        },
        "outputId": "5c3d2d19-3d53-4399-947f-b51261bf4db3"
      },
      "source": [
        "#split dos dados\n",
        "\n",
        "x_wine = wine.drop('class', axis=1)\n",
        "x_wine = np.array(x_wine)\n",
        "y_wine = np.array(wine['class'])\n",
        "\n",
        "#splitando treino e teste\n",
        "from sklearn.linear_model import LinearRegression #repeti a importação para faciliar a leitura\n",
        "\n",
        "x_treino_wine, x_teste_wine, y_treino_wine, y_teste_wine = train_test_split(x_wine, y_wine, test_size = 0.25, random_state = 42)\n",
        "\n",
        "from sklearn.cluster import KMeans\n",
        "\n",
        "reg_k = KMeans(n_clusters=3) #porque é o número de clusters, como visto acima\n",
        "reg_k.fit(x_treino_wine, y_treino_wine)\n",
        "k_predict = reg_k.predict(x_teste_wine)\n",
        "k_predict\n"
      ],
      "execution_count": null,
      "outputs": [
        {
          "output_type": "execute_result",
          "data": {
            "text/plain": [
              "array([1, 2, 0, 2, 0, 2, 0, 1, 1, 1, 1, 0, 2, 0, 2, 0, 0, 1, 2, 0, 2, 0,\n",
              "       1, 1, 0, 1, 0, 1, 0, 2, 2, 0, 1, 2, 2, 2, 1, 0, 1, 1, 2, 0, 0, 1,\n",
              "       0], dtype=int32)"
            ]
          },
          "metadata": {
            "tags": []
          },
          "execution_count": 29
        }
      ]
    },
    {
      "cell_type": "code",
      "metadata": {
        "id": "l_tZLnPSSdME"
      },
      "source": [
        "from sklearn.metrics import silhouette_score, davies_bouldin_score, mutual_info_score"
      ],
      "execution_count": null,
      "outputs": []
    },
    {
      "cell_type": "code",
      "metadata": {
        "id": "FYJ0ktIVSOjV",
        "colab": {
          "base_uri": "https://localhost:8080/",
          "height": 34
        },
        "outputId": "a00db15a-818f-457d-e23d-d9b4cf3ed64c"
      },
      "source": [
        "#Em relação a modelagem utilizando o Kmeans, marque a alternativa CORRETA sobre a métrica Coeficiente de Silhueta:\n",
        "silhouette_score(x_teste_wine, k_predict)"
      ],
      "execution_count": null,
      "outputs": [
        {
          "output_type": "execute_result",
          "data": {
            "text/plain": [
              "0.5519241838976592"
            ]
          },
          "metadata": {
            "tags": []
          },
          "execution_count": 34
        }
      ]
    },
    {
      "cell_type": "code",
      "metadata": {
        "id": "4pEfwWLOOMyX",
        "colab": {
          "base_uri": "https://localhost:8080/",
          "height": 34
        },
        "outputId": "30ed0ed8-4f0a-4a0f-8905-b6dcff93b764"
      },
      "source": [
        "#Em relação a modelagem utilizando o Kmeans, marque a alternativa CORRETA sobre a métrica Davies-Bouldin Score:\n",
        "\n",
        "davies_bouldin_score(x_teste_wine, k_predict)\n"
      ],
      "execution_count": null,
      "outputs": [
        {
          "output_type": "execute_result",
          "data": {
            "text/plain": [
              "0.5415115100039725"
            ]
          },
          "metadata": {
            "tags": []
          },
          "execution_count": 36
        }
      ]
    },
    {
      "cell_type": "code",
      "metadata": {
        "id": "2BBUrGpZOMvh",
        "colab": {
          "base_uri": "https://localhost:8080/",
          "height": 34
        },
        "outputId": "170f7583-a13d-4377-848c-1a7c91bf44a5"
      },
      "source": [
        "#Em relação a modelagem utilizando o Kmeans, marque a alternativa CORRETA sobre a métrica Mutual information:\n",
        "mutual_info_score(y_teste_wine, k_predict)"
      ],
      "execution_count": null,
      "outputs": [
        {
          "output_type": "execute_result",
          "data": {
            "text/plain": [
              "0.526053317723497"
            ]
          },
          "metadata": {
            "tags": []
          },
          "execution_count": 39
        }
      ]
    }
  ]
}